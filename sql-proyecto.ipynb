{
 "cells": [
  {
   "cell_type": "markdown",
   "metadata": {},
   "source": [
    "# Proyecto SQL"
   ]
  },
  {
   "cell_type": "markdown",
   "metadata": {},
   "source": [
    "# Introduccion\n",
    "- El coronavirus tomó al mundo entero por sorpresa, cambiando la rutina diaria de todos y todas. Los habitantes de las ciudades ya no pasaban su tiempo libre fuera, yendo a cafés y centros comerciales; sino que más gente se quedaba en casa, leyendo libros. Eso atrajo la atención de las startups (empresas emergentes) que se apresuraron a desarrollar nuevas aplicaciones para los amantes de los libros.\n",
    "\n",
    "- Te han dado una base de datos de uno de los servicios que compiten en este mercado. Contiene datos sobre libros, editoriales, autores y calificaciones de clientes y reseñas de libros. Esta información se utilizará para generar una propuesta de valor para un nuevo producto."
   ]
  },
  {
   "cell_type": "markdown",
   "metadata": {},
   "source": [
    "## Objetivo"
   ]
  },
  {
   "cell_type": "markdown",
   "metadata": {},
   "source": [
    "- El objetivo de este estudio es realizar un analisis de los datos proporcionados sobre libros, autores, editoriales, calificaciones y reseñas de usuarios para generar una propuesta de valor para un nuevo producto en el mercado de servicios de lectura. En primer lugar, se busca determinar la cantidad de libros publicados despues del 1 de enero de 2000, con el fin de comprender la tendencia de publicacion en las ultimas dos decadas. Ademas, se pretende evaluar la interaccion de los usuarios con los libros calculando el numero de reseñas y la calificacion promedio para cada libro, proporcionando asi una vision sobre la popularidad y valoracion de los libros entre los usuarios. Otro objetivo es identificar la editorial mas prolifica, es decir, aquella que ha publicado el mayor numero de libros con mas de 50 paginas, excluyendo folletos y publicaciones similares, para destacar las editoriales mas productivas en terminos de publicaciones significativas. Finalmente, se busca reconocer a los autores mas valorados identificando al autor con la mas alta calificacion promedio de libro, considerando solo aquellos libros con al menos 50 calificaciones, lo que permitira destacar a los autores que consistentemente reciben valoraciones positivas de los lectores."
   ]
  },
  {
   "cell_type": "code",
   "execution_count": 1,
   "metadata": {},
   "outputs": [],
   "source": [
    "# importar librerías\n",
    "import pandas as pd\n",
    "from sqlalchemy import create_engine\n",
    "\n",
    "# configuración de la base de datos\n",
    "db_config = {'user': 'practicum_student',         # nombre de usuario\n",
    "             'pwd': 's65BlTKV3faNIGhmvJVzOqhs',   # contraseña\n",
    "             'host': 'rc1b-wcoijxj3yxfsf3fs.mdb.yandexcloud.net',\n",
    "             'port': 6432,                        # puerto de conexión\n",
    "             'db': 'data-analyst-final-project-db'}  # nombre de la base de datos\n",
    "\n",
    "connection_string = 'postgresql://{}:{}@{}:{}/{}'.format(db_config['user'],\n",
    "                                                         db_config['pwd'],\n",
    "                                                         db_config['host'],\n",
    "                                                         db_config['port'],\n",
    "                                                         db_config['db'])\n",
    "\n",
    "engine = create_engine(connection_string, connect_args={'sslmode':'require'})\n",
    "\n"
   ]
  },
  {
   "cell_type": "markdown",
   "metadata": {},
   "source": [
    "### Tablas"
   ]
  },
  {
   "cell_type": "code",
   "execution_count": 2,
   "metadata": {},
   "outputs": [
    {
     "name": "stdout",
     "output_type": "stream",
     "text": [
      "Tabla: books\n",
      "   book_id  author_id                                              title  \\\n",
      "0        1        546                                       'Salem's Lot   \n",
      "1        2        465                 1 000 Places to See Before You Die   \n",
      "2        3        407  13 Little Blue Envelopes (Little Blue Envelope...   \n",
      "3        4         82  1491: New Revelations of the Americas Before C...   \n",
      "4        5        125                                               1776   \n",
      "\n",
      "   num_pages publication_date  publisher_id  \n",
      "0        594       2005-11-01            93  \n",
      "1        992       2003-05-22           336  \n",
      "2        322       2010-12-21           135  \n",
      "3        541       2006-10-10           309  \n",
      "4        386       2006-07-04           268  \n"
     ]
    }
   ],
   "source": [
    "query_books = 'SELECT * FROM books LIMIT 5'\n",
    "books_df = pd.read_sql(query_books, con=engine)\n",
    "print(\"Tabla: books\")\n",
    "print(books_df)"
   ]
  },
  {
   "cell_type": "code",
   "execution_count": 3,
   "metadata": {},
   "outputs": [
    {
     "name": "stdout",
     "output_type": "stream",
     "text": [
      "Tabla: authors\n",
      "   author_id                          author\n",
      "0          1                      A.S. Byatt\n",
      "1          2  Aesop/Laura Harris/Laura Gibbs\n",
      "2          3                 Agatha Christie\n",
      "3          4                   Alan Brennert\n",
      "4          5        Alan Moore/David   Lloyd\n"
     ]
    }
   ],
   "source": [
    "query_authors = 'SELECT * FROM authors LIMIT 5'\n",
    "authors_df = pd.read_sql(query_authors, con=engine)\n",
    "print(\"Tabla: authors\")\n",
    "print(authors_df)"
   ]
  },
  {
   "cell_type": "code",
   "execution_count": 4,
   "metadata": {},
   "outputs": [
    {
     "name": "stdout",
     "output_type": "stream",
     "text": [
      "Tabla: publishers\n",
      "   publisher_id                          publisher\n",
      "0             1                                Ace\n",
      "1             2                           Ace Book\n",
      "2             3                          Ace Books\n",
      "3             4                      Ace Hardcover\n",
      "4             5  Addison Wesley Publishing Company\n"
     ]
    }
   ],
   "source": [
    "query_publishers = 'SELECT * FROM publishers LIMIT 5'\n",
    "publishers_df = pd.read_sql(query_publishers, con=engine)\n",
    "print(\"Tabla: publishers\")\n",
    "print(publishers_df)"
   ]
  },
  {
   "cell_type": "code",
   "execution_count": 5,
   "metadata": {},
   "outputs": [
    {
     "name": "stdout",
     "output_type": "stream",
     "text": [
      "Tabla: ratings\n",
      "   rating_id  book_id       username  rating\n",
      "0          1        1     ryanfranco       4\n",
      "1          2        1  grantpatricia       2\n",
      "2          3        1   brandtandrea       5\n",
      "3          4        2       lorichen       3\n",
      "4          5        2    mariokeller       2\n"
     ]
    }
   ],
   "source": [
    "query_ratings = 'SELECT * FROM ratings LIMIT 5'\n",
    "ratings_df = pd.read_sql(query_ratings, con=engine)\n",
    "print(\"Tabla: ratings\")\n",
    "print(ratings_df)"
   ]
  },
  {
   "cell_type": "code",
   "execution_count": 6,
   "metadata": {},
   "outputs": [
    {
     "name": "stdout",
     "output_type": "stream",
     "text": [
      "Tabla: reviews\n",
      "   review_id  book_id       username  \\\n",
      "0          1        1   brandtandrea   \n",
      "1          2        1     ryanfranco   \n",
      "2          3        2       lorichen   \n",
      "3          4        3  johnsonamanda   \n",
      "4          5        3    scotttamara   \n",
      "\n",
      "                                                text  \n",
      "0  Mention society tell send professor analysis. ...  \n",
      "1  Foot glass pretty audience hit themselves. Amo...  \n",
      "2  Listen treat keep worry. Miss husband tax but ...  \n",
      "3  Finally month interesting blue could nature cu...  \n",
      "4  Nation purpose heavy give wait song will. List...  \n"
     ]
    }
   ],
   "source": [
    "query_reviews = 'SELECT * FROM reviews LIMIT 5'\n",
    "reviews_df = pd.read_sql(query_reviews, con=engine)\n",
    "print(\"Tabla: reviews\")\n",
    "print(reviews_df)"
   ]
  },
  {
   "cell_type": "markdown",
   "metadata": {},
   "source": [
    "# Ejercicios"
   ]
  },
  {
   "cell_type": "markdown",
   "metadata": {},
   "source": [
    "## Encuentra el número de libros publicados después del 1 de enero de 2000."
   ]
  },
  {
   "cell_type": "code",
   "execution_count": 7,
   "metadata": {},
   "outputs": [
    {
     "name": "stdout",
     "output_type": "stream",
     "text": [
      "   num_books_after_2000\n",
      "0                   819\n"
     ]
    }
   ],
   "source": [
    "query = '''\n",
    "SELECT COUNT(*) as num_books_after_2000\n",
    "FROM books\n",
    "WHERE publication_date > '2000-01-01'\n",
    "'''\n",
    "num_books_after_2000 = pd.read_sql(query, con=engine)\n",
    "print(num_books_after_2000)"
   ]
  },
  {
   "cell_type": "markdown",
   "metadata": {},
   "source": [
    "- La cantidad de libros publicados despues del 1 de enero de 2000 muestra un incremento en la produccion literaria en las ultimas dos decadas, indicando un mercado editorial en expansion y un interes continuo de los lectores por nuevos titulos."
   ]
  },
  {
   "cell_type": "markdown",
   "metadata": {},
   "source": [
    "## Encuentra el número de reseñas de usuarios y la calificación promedio para cada libro."
   ]
  },
  {
   "cell_type": "code",
   "execution_count": 8,
   "metadata": {
    "scrolled": true
   },
   "outputs": [
    {
     "name": "stdout",
     "output_type": "stream",
     "text": [
      "     book_id                                              title  num_reviews  \\\n",
      "0        652          The Body in the Library (Miss Marple  #3)            2   \n",
      "1        273                                          Galápagos            2   \n",
      "2         51                           A Tree Grows in Brooklyn           12   \n",
      "3        951  Undaunted Courage: The Pioneering First Missio...            2   \n",
      "4        839                                        The Prophet            7   \n",
      "..       ...                                                ...          ...   \n",
      "995       64                                Alice in Wonderland           13   \n",
      "996       55          A Woman of Substance (Emma Harte Saga #1)            2   \n",
      "997      148                                          Christine            7   \n",
      "998      790  The Magicians' Guild (Black Magician Trilogy  #1)            2   \n",
      "999      828                           The Plot Against America            2   \n",
      "\n",
      "     avg_rating  \n",
      "0      4.500000  \n",
      "1      4.500000  \n",
      "2      4.250000  \n",
      "3      4.000000  \n",
      "4      4.285714  \n",
      "..          ...  \n",
      "995    4.230769  \n",
      "996    5.000000  \n",
      "997    3.428571  \n",
      "998    3.500000  \n",
      "999    3.000000  \n",
      "\n",
      "[1000 rows x 4 columns]\n"
     ]
    }
   ],
   "source": [
    "query = '''\n",
    "SELECT\n",
    "    b.book_id,\n",
    "    b.title,\n",
    "    COUNT(r.rating_id) AS num_reviews,\n",
    "    AVG(r.rating) AS avg_rating\n",
    "FROM books b\n",
    "LEFT JOIN ratings r ON b.book_id = r.book_id\n",
    "GROUP BY b.book_id, b.title\n",
    "'''\n",
    "reviews_ratings = pd.read_sql(query, con=engine)\n",
    "print(reviews_ratings)"
   ]
  },
  {
   "cell_type": "markdown",
   "metadata": {},
   "source": [
    "- El numero de reseñas y la calificacion promedio para cada libro revela cuáles son los libros más populares y mejor valorados por los usuarios. Libros con muchas reseñas y altas calificaciones son generalmente bien recibidos, mientras que aquellos con pocas reseñas y bajas calificaciones indican menor interes o satisfaccion.\n"
   ]
  },
  {
   "cell_type": "markdown",
   "metadata": {},
   "source": [
    "## Identifica la editorial que ha publicado el mayor número de libros con más de 50 páginas (esto te ayudará a excluir folletos y publicaciones similares de tu análisis)."
   ]
  },
  {
   "cell_type": "code",
   "execution_count": 9,
   "metadata": {},
   "outputs": [
    {
     "name": "stdout",
     "output_type": "stream",
     "text": [
      "       publisher  num_books\n",
      "0  Penguin Books         42\n"
     ]
    }
   ],
   "source": [
    "query = '''\n",
    "SELECT\n",
    "    p.publisher,\n",
    "    COUNT(b.book_id) AS num_books\n",
    "FROM books b\n",
    "JOIN publishers p ON b.publisher_id = p.publisher_id\n",
    "WHERE b.num_pages > 50\n",
    "GROUP BY p.publisher\n",
    "ORDER BY num_books DESC\n",
    "LIMIT 1\n",
    "'''\n",
    "top_publisher = pd.read_sql(query, con=engine)\n",
    "print(top_publisher)"
   ]
  },
  {
   "cell_type": "markdown",
   "metadata": {},
   "source": [
    "- La editorial que ha publicado el mayor numero de libros con más de 50 páginas se destaca por su productividad en publicaciones significativas. Esto es util para identificar a las editoriales dominantes en el mercado y ayudar a nuevos autores a elegir colaboraciones estrategicas."
   ]
  },
  {
   "cell_type": "markdown",
   "metadata": {},
   "source": [
    "## Identifica al autor que tiene la más alta calificación promedio del libro: mira solo los libros con al menos 50 calificaciones."
   ]
  },
  {
   "cell_type": "code",
   "execution_count": 10,
   "metadata": {},
   "outputs": [
    {
     "name": "stdout",
     "output_type": "stream",
     "text": [
      "                       author  author_avg_rating\n",
      "0  J.K. Rowling/Mary GrandPré           4.283844\n"
     ]
    }
   ],
   "source": [
    "query = '''\n",
    "WITH book_ratings AS (\n",
    "    SELECT\n",
    "        b.book_id,\n",
    "        b.author_id,\n",
    "        COUNT(r.rating_id) AS num_ratings,\n",
    "        AVG(r.rating) AS avg_rating\n",
    "    FROM books b\n",
    "    JOIN ratings r ON b.book_id = r.book_id\n",
    "    GROUP BY b.book_id\n",
    "    HAVING COUNT(r.rating_id) >= 50\n",
    ")\n",
    "SELECT\n",
    "    a.author,\n",
    "    AVG(br.avg_rating) AS author_avg_rating\n",
    "FROM book_ratings br\n",
    "JOIN authors a ON br.author_id = a.author_id\n",
    "GROUP BY a.author\n",
    "ORDER BY author_avg_rating DESC\n",
    "LIMIT 1\n",
    "'''\n",
    "top_author = pd.read_sql(query, con=engine)\n",
    "print(top_author)"
   ]
  },
  {
   "cell_type": "markdown",
   "metadata": {},
   "source": [
    "- El autor con la mas alta calificación promedio, considerando libros con al menos 50 calificaciones, demuestra consistentemente valoraciones positivas de los lectores. Esto destaca a los autores mas exitosos y valiosos para futuras publicaciones."
   ]
  },
  {
   "cell_type": "markdown",
   "metadata": {},
   "source": [
    "## Encuentra el número promedio de reseñas de texto entre los usuarios que calificaron más de 50 libros."
   ]
  },
  {
   "cell_type": "code",
   "execution_count": 11,
   "metadata": {},
   "outputs": [
    {
     "name": "stdout",
     "output_type": "stream",
     "text": [
      "   avg_reviews_per_user\n",
      "0             24.333333\n"
     ]
    }
   ],
   "source": [
    "query = '''\n",
    "WITH user_ratings AS (\n",
    "    SELECT\n",
    "        username,\n",
    "        COUNT(rating_id) AS num_ratings\n",
    "    FROM ratings\n",
    "    GROUP BY username\n",
    "    HAVING COUNT(rating_id) > 50\n",
    "),\n",
    "user_reviews AS (\n",
    "    SELECT\n",
    "        r.username,\n",
    "        COUNT(rv.review_id) AS num_reviews\n",
    "    FROM reviews rv\n",
    "    JOIN user_ratings r ON rv.username = r.username\n",
    "    GROUP BY r.username\n",
    ")\n",
    "SELECT AVG(num_reviews) AS avg_reviews_per_user\n",
    "FROM user_reviews\n",
    "'''\n",
    "avg_reviews_per_user = pd.read_sql(query, con=engine)\n",
    "print(avg_reviews_per_user)"
   ]
  },
  {
   "cell_type": "markdown",
   "metadata": {},
   "source": [
    "- Los usuarios que han calificado más de 50 libros tienden a dejar un numero promedio significativo de reseñas de texto. Estos usuarios comprometidos e influyentes son cruciales para estrategias de engagement y fidelización en plataformas de lectura."
   ]
  }
 ],
 "metadata": {
  "ExecuteTimeLog": [
   {
    "duration": 6341,
    "start_time": "2024-07-03T04:32:42.978Z"
   },
   {
    "duration": 758,
    "start_time": "2024-07-03T04:33:14.986Z"
   },
   {
    "duration": 1019,
    "start_time": "2024-07-03T04:33:33.743Z"
   },
   {
    "duration": 762,
    "start_time": "2024-07-03T04:34:14.409Z"
   },
   {
    "duration": 763,
    "start_time": "2024-07-03T04:35:56.870Z"
   },
   {
    "duration": 6,
    "start_time": "2024-07-04T02:40:02.170Z"
   },
   {
    "duration": 588,
    "start_time": "2024-07-04T02:43:05.151Z"
   },
   {
    "duration": 5919,
    "start_time": "2024-07-04T02:43:06.963Z"
   },
   {
    "duration": 6,
    "start_time": "2024-07-04T03:29:45.830Z"
   },
   {
    "duration": 2693,
    "start_time": "2024-07-04T03:31:14.528Z"
   },
   {
    "duration": 8,
    "start_time": "2024-07-04T03:35:01.577Z"
   },
   {
    "duration": 592,
    "start_time": "2024-07-04T03:37:28.488Z"
   },
   {
    "duration": 2617,
    "start_time": "2024-07-04T03:37:29.083Z"
   },
   {
    "duration": 746,
    "start_time": "2024-07-04T03:37:31.703Z"
   },
   {
    "duration": 745,
    "start_time": "2024-07-04T03:37:32.454Z"
   },
   {
    "duration": 746,
    "start_time": "2024-07-04T03:37:33.202Z"
   },
   {
    "duration": 747,
    "start_time": "2024-07-04T03:37:33.951Z"
   },
   {
    "duration": 746,
    "start_time": "2024-07-04T03:37:34.701Z"
   },
   {
    "duration": 1001,
    "start_time": "2024-07-04T03:37:35.450Z"
   },
   {
    "duration": 747,
    "start_time": "2024-07-04T03:37:36.454Z"
   },
   {
    "duration": 749,
    "start_time": "2024-07-04T03:37:37.206Z"
   },
   {
    "duration": 747,
    "start_time": "2024-07-04T03:37:37.959Z"
   },
   {
    "duration": 13,
    "start_time": "2024-07-04T21:15:36.549Z"
   }
  ],
  "kernelspec": {
   "display_name": "Python 3 (ipykernel)",
   "language": "python",
   "name": "python3"
  },
  "language_info": {
   "codemirror_mode": {
    "name": "ipython",
    "version": 3
   },
   "file_extension": ".py",
   "mimetype": "text/x-python",
   "name": "python",
   "nbconvert_exporter": "python",
   "pygments_lexer": "ipython3",
   "version": "3.9.19"
  },
  "toc": {
   "base_numbering": 1,
   "nav_menu": {},
   "number_sections": true,
   "sideBar": true,
   "skip_h1_title": true,
   "title_cell": "Table of Contents",
   "title_sidebar": "Contents",
   "toc_cell": false,
   "toc_position": {},
   "toc_section_display": true,
   "toc_window_display": false
  }
 },
 "nbformat": 4,
 "nbformat_minor": 2
}
